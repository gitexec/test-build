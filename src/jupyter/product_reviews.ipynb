{
 "cells": [
  {
   "cell_type": "code",
   "execution_count": 1,
   "metadata": {},
   "outputs": [
    {
     "name": "stdout",
     "output_type": "stream",
     "text": [
      "Copying gs://icentris-data-model-ml-d1/product-reviews.csv...\n",
      "/ [1 files][  6.7 KiB/  6.7 KiB]                                                \n",
      "Operation completed over 1 objects/6.7 KiB.                                      \n"
     ]
    }
   ],
   "source": [
    "!gsutil cp gs://icentris-data-model-ml-d1/product-reviews.csv .\n",
    "    "
   ]
  },
  {
   "cell_type": "code",
   "execution_count": 8,
   "metadata": {},
   "outputs": [],
   "source": [
    "import pandas as pd\n",
    "\n",
    "from surprise import NormalPredictor\n",
    "from surprise import Dataset\n",
    "from surprise import Reader\n",
    "from surprise.model_selection import cross_validate\n",
    "\n",
    "from surprise import SVD\n",
    "from surprise import accuracy\n",
    "from surprise.model_selection import KFold"
   ]
  },
  {
   "cell_type": "code",
   "execution_count": 4,
   "metadata": {},
   "outputs": [],
   "source": [
    "reviews = pd.read_csv('product-reviews.csv', names=['product_id', 'user_id', 'rating'])"
   ]
  },
  {
   "cell_type": "code",
   "execution_count": 7,
   "metadata": {},
   "outputs": [],
   "source": [
    "reader = Reader(rating_scale=(1,5))\n",
    "dataset = Dataset.load_from_df(reviews[['user_id', 'product_id', 'rating']], reader)"
   ]
  },
  {
   "cell_type": "code",
   "execution_count": 9,
   "metadata": {},
   "outputs": [
    {
     "name": "stdout",
     "output_type": "stream",
     "text": [
      "RMSE: 1.1105\n",
      "RMSE: 1.7487\n",
      "RMSE: 1.4287\n"
     ]
    }
   ],
   "source": [
    "kf = KFold(n_splits=3)\n",
    "\n",
    "algo = SVD()\n",
    "for trainset, testset in kf.split(dataset):\n",
    "\n",
    "    # train and test algorithm.\n",
    "    algo.fit(trainset)\n",
    "    predictions = algo.test(testset)\n",
    "\n",
    "    # Compute and print Root Mean Squared Error\n",
    "    accuracy.rmse(predictions, verbose=True)"
   ]
  },
  {
   "cell_type": "code",
   "execution_count": 10,
   "metadata": {},
   "outputs": [],
   "source": [
    "from collections import defaultdict\n",
    "\n",
    "from surprise import SVD\n",
    "from surprise import Dataset\n",
    "\n",
    "\n",
    "def get_top_n(predictions, n=5):\n",
    "    '''Return the top-N recommendation for each user from a set of predictions.\n",
    "\n",
    "    Args:\n",
    "        predictions(list of Prediction objects): The list of predictions, as\n",
    "            returned by the test method of an algorithm.\n",
    "        n(int): The number of recommendation to output for each user. Default\n",
    "            is 10.\n",
    "\n",
    "    Returns:\n",
    "    A dict where keys are user (raw) ids and values are lists of tuples:\n",
    "        [(raw item id, rating estimation), ...] of size n.\n",
    "    '''\n",
    "\n",
    "    # First map the predictions to each user.\n",
    "    top_n = defaultdict(list)\n",
    "    for uid, iid, true_r, est, _ in predictions:\n",
    "        top_n[uid].append((iid, est))\n",
    "\n",
    "    # Then sort the predictions for each user and retrieve the k highest ones.\n",
    "    for uid, user_ratings in top_n.items():\n",
    "        user_ratings.sort(key=lambda x: x[1], reverse=True)\n",
    "        top_n[uid] = user_ratings[:n]\n",
    "\n",
    "    return top_n"
   ]
  },
  {
   "cell_type": "code",
   "execution_count": 11,
   "metadata": {},
   "outputs": [],
   "source": [
    "top_n = get_top_n(predictions)"
   ]
  },
  {
   "cell_type": "code",
   "execution_count": 13,
   "metadata": {},
   "outputs": [
    {
     "data": {
      "text/plain": [
       "defaultdict(list,\n",
       "            {444: [('10-0011', 4.721952627073553)],\n",
       "             793: [('15-0029', 4.873941697151362)],\n",
       "             810: [('03-0010', 4.473249962206511),\n",
       "              ('10-0002', 4.248276861045902)],\n",
       "             992: [('15-0029', 4.873941697151362)],\n",
       "             2001: [('15-0029', 4.873941697151362)],\n",
       "             3538: [('10-0024', 4.702121050848317)],\n",
       "             5324: [('15-0029', 4.873941697151362)],\n",
       "             9678: [('06-0003', 4.435717694477046)],\n",
       "             19335: [('03-0006', 4.71894435237806)],\n",
       "             26849: [('16-0006', 4.055683272024348)],\n",
       "             35404: [('15-0029', 4.873941697151362)],\n",
       "             35759: [('06-0003', 4.196357753295739)],\n",
       "             42457: [('15-0029', 4.873941697151362)],\n",
       "             54327: [('15-0022', 4.5611484171710615)],\n",
       "             63328: [('13-0010', 4.374955638180056)],\n",
       "             71250: [('15-0029', 4.922089307424837)],\n",
       "             72387: [('06-0002', 4.6260510025409385)],\n",
       "             79907: [('15-0014', 4.422498756031831)],\n",
       "             83297: [('06-0003', 4.435717694477046)],\n",
       "             84792: [('05-0005', 4.348463870967742)],\n",
       "             88547: [('05-0001', 4.918945107195401)],\n",
       "             90015: [('15-0029', 4.873941697151362)],\n",
       "             90754: [('06-0001', 4.593762008640638)],\n",
       "             91338: [('16-0012', 3.1311232014120796)],\n",
       "             93668: [('16-0012', 3.3885124924038452)],\n",
       "             95390: [('16-0012', 3.1311232014120796)],\n",
       "             103148: [('03-0006', 4.71894435237806)],\n",
       "             108196: [('05-0001', 4.919019828618012)],\n",
       "             142917: [('10-0002', 4.51198036716998)],\n",
       "             167867: [('03-0010', 4.467044528590093)],\n",
       "             168610: [('10-0011', 4.562524400349019)],\n",
       "             171209: [('15-0022', 4.5611484171710615)],\n",
       "             171510: [('05-0001', 4.919019828618012)],\n",
       "             171818: [('15-0029', 4.873941697151362)],\n",
       "             173968: [('10-0003', 4.348463870967742)],\n",
       "             175744: [('15-0001', 4.6887327397223775)],\n",
       "             181260: [('05-0001', 4.688193859289642),\n",
       "              ('15-0001', 4.575089077894542),\n",
       "              ('16-0011', 4.342607008135786)],\n",
       "             186098: [('03-0005', 4.39072472317334),\n",
       "              ('17-0009', 4.286627582386667)],\n",
       "             189928: [('17-0010', 4.402109830510628)],\n",
       "             197437: [('10-0026', 4.581349300991763)],\n",
       "             215681: [('16-0005', 4.406887479499656)],\n",
       "             216816: [('06-0003', 4.435717694477046)],\n",
       "             219743: [('06-0001', 4.593762008640638)],\n",
       "             229294: [('05-0001', 4.919019828618012)],\n",
       "             231240: [('06-0002', 4.667455375986862)],\n",
       "             232845: [('05-0001', 4.828090822234031)],\n",
       "             236556: [('05-0001', 4.919019828618012)],\n",
       "             240862: [('05-0001', 4.919019828618012)],\n",
       "             241600: [('10-0002', 4.184959737965808)],\n",
       "             247673: [('10-0002', 4.525456549617737)],\n",
       "             261747: [('05-0001', 4.919019828618012)],\n",
       "             268004: [('05-0001', 4.919019828618012)],\n",
       "             268232: [('01-0026', 4.398402530650461)],\n",
       "             273740: [('03-0006', 4.71894435237806)],\n",
       "             279109: [('05-0001', 4.979552693387997)],\n",
       "             283377: [('16-0013', 4.463024721335083)],\n",
       "             284017: [('10-0024', 4.702121050848317)],\n",
       "             285659: [('16-0012', 3.1311232014120796)],\n",
       "             289590: [('15-0016', 4.348463870967742)],\n",
       "             289988: [('15-0022', 4.5611484171710615)],\n",
       "             294448: [('13-0021', 4.348463870967742)],\n",
       "             294697: [('03-0006', 4.71894435237806)],\n",
       "             295681: [('15-0029', 4.873941697151362)],\n",
       "             297097: [('03-0003', 4.447003699513534)],\n",
       "             301727: [('18-0007', 4.371090651989259)],\n",
       "             307651: [('05-0001', 4.919019828618012)],\n",
       "             318326: [('15-0022', 4.5611484171710615)],\n",
       "             320143: [('06-0001', 4.451383642127432),\n",
       "              ('10-0005', 4.082444114622659)],\n",
       "             335361: [('10-0026', 4.401049150588456)],\n",
       "             336219: [('10-0025', 4.43186221506326),\n",
       "              ('15-0008', 4.292498057151319),\n",
       "              ('15-0022', 4.227257981869072),\n",
       "              ('03-0004', 4.192058785923307),\n",
       "              ('15-0009', 4.132940966248892)],\n",
       "             338165: [('10-0024', 4.702121050848317)],\n",
       "             342983: [('17-0002', 4.348463870967742)],\n",
       "             365895: [('10-0024', 4.702121050848317)],\n",
       "             368610: [('03-0006', 4.71894435237806)],\n",
       "             388869: [('15-0029', 4.873941697151362)],\n",
       "             394111: [('05-0001', 4.919019828618012)],\n",
       "             403601: [('15-0029', 4.873941697151362)],\n",
       "             422825: [('10-0025', 4.555006545635409)]})"
      ]
     },
     "execution_count": 13,
     "metadata": {},
     "output_type": "execute_result"
    }
   ],
   "source": [
    "#predicted rating for top 5 products for each user\n",
    "top_n"
   ]
  },
  {
   "cell_type": "code",
   "execution_count": null,
   "metadata": {},
   "outputs": [],
   "source": []
  }
 ],
 "metadata": {
  "kernelspec": {
   "display_name": "Python 3",
   "language": "python",
   "name": "python3"
  },
  "language_info": {
   "codemirror_mode": {
    "name": "ipython",
    "version": 3
   },
   "file_extension": ".py",
   "mimetype": "text/x-python",
   "name": "python",
   "nbconvert_exporter": "python",
   "pygments_lexer": "ipython3",
   "version": "3.5.3"
  }
 },
 "nbformat": 4,
 "nbformat_minor": 2
}
